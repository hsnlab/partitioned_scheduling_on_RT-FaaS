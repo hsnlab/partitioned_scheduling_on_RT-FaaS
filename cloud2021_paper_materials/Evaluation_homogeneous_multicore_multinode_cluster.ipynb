{
 "cells": [
  {
   "cell_type": "code",
   "execution_count": 1,
   "metadata": {},
   "outputs": [],
   "source": [
    "import pandas as pd\n",
    "import seaborn as sns\n",
    "import matplotlib.pyplot as plt\n",
    "import numpy as np"
   ]
  },
  {
   "cell_type": "markdown",
   "metadata": {},
   "source": [
    "# Evaluation: The homogeneous multiprocessor scenario"
   ]
  },
  {
   "cell_type": "code",
   "execution_count": 2,
   "metadata": {},
   "outputs": [],
   "source": [
    "#Path to the Github repo in your computer (https://github.com/muuurk/partitioned_scheduling_on_RT-FaaS)\n",
    "REPO_PATH = \"/home/szalay/projects/partitioned_scheduling_on_RT-FaaS\"\n",
    "\n",
    "# Algorithm to examine. \n",
    "# Possible values: ALG1 (ALG in the paper), FFD (FFD in the paper), BR (BR in the paper) and DBR (EBR in the paper)\n",
    "ALGORITHMS = [\"ALG1\", \"FFD\", \"BR\", \"DBR\"]"
   ]
  },
  {
   "cell_type": "code",
   "execution_count": 3,
   "metadata": {},
   "outputs": [
    {
     "name": "stdout",
     "output_type": "stream",
     "text": [
      "Processing file /home/szalay/projects/partitioned_scheduling_on_RT-FaaS/cloud2021_paper_materials/dataset_paper/homogen_tests_matrix_10x100.csv\n",
      "Processing file /home/szalay/projects/partitioned_scheduling_on_RT-FaaS/cloud2021_paper_materials/dataset_paper/homogen_tests_matrix_50x100.csv\n",
      "Processing file /home/szalay/projects/partitioned_scheduling_on_RT-FaaS/cloud2021_paper_materials/dataset_paper/homogen_tests_matrix_100x100.csv\n"
     ]
    },
    {
     "data": {
      "image/png": "[encoded data removed]",
      "text/plain": [
       "<Figure size 432x288 with 2 Axes>"
      ]
     },
     "metadata": {
      "needs_background": "light"
     },
     "output_type": "display_data"
    }
   ],
   "source": [
    "def get_index(values, value):\n",
    "    return values.index(value)\n",
    "\n",
    "df_for_fig = pd.DataFrame(columns=['algorithm'])\n",
    "df_for_fig2 = pd.DataFrame(columns=['algorithm'])\n",
    "\n",
    "matrix_sizes = [(10,100), (50,100), (100,100)]\n",
    "for matrix_size in matrix_sizes:\n",
    "    for sim_group in range(1):\n",
    "\n",
    "        file_name = '{}/cloud2021_paper_materials/dataset_paper/homogen_tests_matrix_{}x{}.csv'.format(REPO_PATH, matrix_size[0],matrix_size[1])\n",
    "        print(\"Processing file {}\".format(file_name))\n",
    "        df = pd.read_csv(file_name)\n",
    "\n",
    "        for alg in ALGORITHMS:\n",
    "            df_filtered = df.iloc[:,[get_index(list(df.columns),alg)]]\n",
    "            df_filtered = df_filtered.rename(columns={alg: \"used_bins\"})\n",
    "\n",
    "            for b in df_filtered['used_bins']:\n",
    "                if alg == \"DBR\":\n",
    "                    df_for_fig = df_for_fig.append({\"used CPUs / #tasks\": (b/matrix_size[0]),\n",
    "                                                \"algorithm\": \"EBR\",\n",
    "                                                \"#tasks\": matrix_size[0]}, ignore_index=True)\n",
    "                elif alg == \"ALG1\":\n",
    "                    df_for_fig = df_for_fig.append({\"used CPUs / #tasks\": (b/matrix_size[0]),\n",
    "                                                \"algorithm\": \"ALG\",\n",
    "                                                \"#tasks\": matrix_size[0]}, ignore_index=True)\n",
    "                else:\n",
    "                    df_for_fig = df_for_fig.append({\"used CPUs / #tasks\": (b/matrix_size[0]),\n",
    "                                                \"algorithm\": alg,\n",
    "                                                \"#tasks\": matrix_size[0]}, ignore_index=True)\n",
    "        \n",
    "        for alg in ALGORITHMS:\n",
    "            df_filtered = df.loc[df[alg] == np.inf]\n",
    "            # sim cases when the algorithm did not have solution\n",
    "            sim_count_wo_sol = list(set(df_filtered['Sim. case']))\n",
    "            if alg == \"DBR\":\n",
    "                df_for_fig2 = df_for_fig2.append({\"#feasible solutions\": 100-len(sim_count_wo_sol),\n",
    "                                            \"algorithm\": \"EBR\",\n",
    "                                            \"#tasks\": matrix_size[0]}, ignore_index=True)\n",
    "            elif alg == \"ALG1\":\n",
    "                df_for_fig2 = df_for_fig2.append({\"#feasible solutions\": 100-len(sim_count_wo_sol),\n",
    "                                            \"algorithm\": \"ALG\",\n",
    "                                            \"#tasks\": matrix_size[0]}, ignore_index=True)\n",
    "            else:\n",
    "                df_for_fig2 = df_for_fig2.append({\"#feasible solutions\": 100-len(sim_count_wo_sol),\n",
    "                                            \"algorithm\": alg,\n",
    "                                            \"#tasks\": matrix_size[0]}, ignore_index=True)\n",
    "        \n",
    "\n",
    "df_for_fig = df_for_fig.replace([np.inf, -np.inf], np.nan)\n",
    "df_for_fig = df_for_fig.dropna()\n",
    "\n",
    "df_for_fig2 = df_for_fig2.replace([np.inf, -np.inf], np.nan)\n",
    "df_for_fig2 = df_for_fig2.dropna()\n",
    "\n",
    "fig, axes = plt.subplots(2, 1, sharex=False, sharey=False)\n",
    "fig.suptitle('Performances on homogeneous processors')\n",
    "    \n",
    "sns.barplot(ax=axes[0], x=\"algorithm\", y=\"#feasible solutions\", hue=\"#tasks\", data=df_for_fig2)\n",
    "axes[0].grid()\n",
    "axes[0].legend(title=\"#tasks\", loc='lower left')\n",
    "axes[0].set_xlabel(\" \")\n",
    "\n",
    "sns.boxplot(ax=axes[1],x=\"algorithm\", y=\"used CPUs / #tasks\", hue='#tasks', data=df_for_fig, showfliers = False)\n",
    "axes[1].grid()\n",
    "axes[1].get_legend().set_visible(False)\n",
    "axes[1].set_xlabel(\"algorithms\")\n",
    "\n",
    "plt.savefig('homogen.pdf')  \n",
    "    "
   ]
  },
  {
   "cell_type": "code",
   "execution_count": null,
   "metadata": {},
   "outputs": [],
   "source": []
  }
 ],
 "metadata": {
  "kernelspec": {
   "display_name": "Python 3",
   "language": "python",
   "name": "python3"
  },
  "language_info": {
   "codemirror_mode": {
    "name": "ipython",
    "version": 3
   },
   "file_extension": ".py",
   "mimetype": "text/x-python",
   "name": "python",
   "nbconvert_exporter": "python",
   "pygments_lexer": "ipython3",
   "version": "3.7.5"
  }
 },
 "nbformat": 4,
 "nbformat_minor": 4
}
